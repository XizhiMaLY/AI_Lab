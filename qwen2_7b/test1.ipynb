{
 "cells": [
  {
   "cell_type": "code",
   "execution_count": 1,
   "metadata": {},
   "outputs": [
    {
     "data": {
      "application/vnd.jupyter.widget-view+json": {
       "model_id": "811b8e9c02234098970c16efd8efd367",
       "version_major": 2,
       "version_minor": 0
      },
      "text/plain": [
       "Loading checkpoint shards:   0%|          | 0/4 [00:00<?, ?it/s]"
      ]
     },
     "metadata": {},
     "output_type": "display_data"
    },
    {
     "name": "stderr",
     "output_type": "stream",
     "text": [
      "We've detected an older driver with an RTX 4000 series GPU. These drivers have issues with P2P. This can affect the multi-gpu inference when using accelerate device_map.Please make sure to update your driver to the latest version which resolves this.\n",
      "Special tokens have been added in the vocabulary, make sure the associated word embeddings are fine-tuned or trained.\n"
     ]
    }
   ],
   "source": [
    "from transformers import AutoModelForCausalLM, AutoTokenizer, GenerationConfig\n",
    "import torch\n",
    "\n",
    "device = \"cuda:2\"  # the device to load the model onto\n",
    "\n",
    "# Load the model and tokenizer\n",
    "model = AutoModelForCausalLM.from_pretrained(\n",
    "    \"/mnt/sda/agent_mxz/models/Qwen2-7B-Instruct\",\n",
    "    torch_dtype=\"auto\",\n",
    "    device_map=\"auto\"\n",
    ")\n",
    "tokenizer = AutoTokenizer.from_pretrained(\"/mnt/sda/agent_mxz/models/Qwen2-7B-Instruct\")"
   ]
  },
  {
   "cell_type": "code",
   "execution_count": 2,
   "metadata": {},
   "outputs": [],
   "source": [
    "def get_response(prompt):\n",
    "    # Define the prompt and messages\n",
    "    if not prompt:\n",
    "        prompt = \"你是一个数据科学家，这里有一个表结构，表ioms_alarm_current 字段：alarm_id, line, system, device_id, level, station, sub_frame, slot, port, alias, code, content, target_id, abnormal_type, trigger_reason, count, alarm_time_first, alarm_time_last, confirm_time, status, source, alarm_type, remark, 查询一下最近三天的告警信息。要求你仅输出SQL代码,不加入任何非代码以外的解释或者背景信息，不要解释，不要解释，不要解释\"\n",
    "\n",
    "    messages = [\n",
    "        {\"role\": \"system\", \"content\": \"You are a helpful assistant.\"},\n",
    "        {\"role\": \"user\", \"content\": prompt}\n",
    "    ]\n",
    "\n",
    "    # Apply the chat template\n",
    "    text = tokenizer.apply_chat_template(\n",
    "        messages,\n",
    "        tokenize=False,\n",
    "        add_generation_prompt=True\n",
    "    )\n",
    "    model_inputs = tokenizer([text], return_tensors=\"pt\").to(device)\n",
    "\n",
    "    # Define the generation configuration with adjusted temperature\n",
    "    generation_config = GenerationConfig(\n",
    "        temperature=0.001,  # Adjust the temperature as needed\n",
    "        max_new_tokens=200,\n",
    "        do_sample=False\n",
    "    )\n",
    "\n",
    "    # Generate the response\n",
    "    with torch.no_grad():\n",
    "        generated_ids = model.generate(\n",
    "            model_inputs.input_ids,\n",
    "            generation_config=generation_config\n",
    "        )\n",
    "\n",
    "    # Extract the generated tokens\n",
    "    generated_ids = [\n",
    "        output_ids[len(input_ids):] for input_ids, output_ids in zip(model_inputs.input_ids, generated_ids)\n",
    "    ]\n",
    "\n",
    "    # Decode the response\n",
    "    response = tokenizer.batch_decode(generated_ids, skip_special_tokens=True)[0]\n",
    "    print(response)"
   ]
  },
  {
   "cell_type": "code",
   "execution_count": 18,
   "metadata": {},
   "outputs": [
    {
     "name": "stdout",
     "output_type": "stream",
     "text": [
      "```sql\n",
      "SELECT \n",
      "    sub_frame, \n",
      "    COUNT(*) as fault_count\n",
      "FROM \n",
      "    ioms_alarm_history\n",
      "WHERE \n",
      "    status = '故障'\n",
      "GROUP BY \n",
      "    sub_frame\n",
      "ORDER BY \n",
      "    fault_count DESC\n",
      "LIMIT 10;\n",
      "```\n"
     ]
    }
   ],
   "source": [
    "prompt = \"\"\"你是一个数据科学家，这里有一个表结构，\n",
    "下面是建表语句：CREATE TABLE IF NOT EXISTS `ioms_alarm_history` (\n",
    "  `alarm_id` varchar(20) NOT NULL COMMENT '告警id',\n",
    "  `line_name` varchar(50) NOT NULL COMMENT '线路名称',\n",
    "  `station_name` varchar(50) NOT NULL COMMENT '站点名称',\n",
    "  `subsystem_name` varchar(50) NOT NULL COMMENT '子系统名称',\n",
    "  `device_name` varchar(100) NOT NULL COMMENT '设备名称',\n",
    "  `content` varchar(100) NOT NULL COMMENT '告警内容',\n",
    "  `trigger_reason` varchar(128) DEFAULT NULL COMMENT '触发原因',\n",
    "  `device_id` varchar(20) NOT NULL COMMENT '设备id',\n",
    "  `alarm_code` varchar(52) NOT NULL COMMENT '告警码',\n",
    "  `alarm_level_id` varchar(20) NOT NULL COMMENT '告警等级id',\n",
    "  `alarm_level_name` varchar(20) NOT NULL COMMENT '告警等级名称',\n",
    "  `target_id` varchar(20) DEFAULT NULL COMMENT '指标id',\n",
    "  `target_title` varchar(100) DEFAULT NULL COMMENT '指标标题',\n",
    "  `target_name` varchar(50) DEFAULT NULL COMMENT '指标名称',\n",
    "  `abnormal_type` int(11) DEFAULT NULL COMMENT '异常类型，0-预警规则，1-智能检测，2-同环比，3-陡增，4-陡降',\n",
    "  `count` int(11) NOT NULL COMMENT '告警次数',\n",
    "  `device_type_name` varchar(50) NOT NULL COMMENT '设备类型名称',\n",
    "  `sub_frame` varchar(100) NOT NULL DEFAULT '' COMMENT '子架、机框、模块',\n",
    "  `slot` varchar(100) NOT NULL DEFAULT '' COMMENT '槽位、板卡、子模块',\n",
    "  `port` varchar(100) NOT NULL DEFAULT '' COMMENT '端口',\n",
    "  `alias` varchar(100) NOT NULL DEFAULT '' COMMENT '单元名称',\n",
    "  `handler` varchar(50) NOT NULL COMMENT '处理人名称',\n",
    "  `clear_time` timestamp NULL DEFAULT NULL COMMENT '清除时间',\n",
    "  `alarm_time_first` timestamp NULL DEFAULT NULL COMMENT '第一次告警时间',\n",
    "  `alarm_time_last` timestamp NULL DEFAULT NULL COMMENT '最近一次告警时间',\n",
    "  `confirm_time` timestamp NULL DEFAULT NULL COMMENT '告警确认时间',\n",
    "  `time_interval` bigint(20) DEFAULT NULL COMMENT '告警持续时间(单位:s)',\n",
    "  `status` varchar(50) NOT NULL COMMENT '状态',\n",
    "  `alarm_type` tinyint(4) NOT NULL DEFAULT '1' COMMENT '告警类型: 1.告警, 2.预警',\n",
    "  `cause` varchar(1024) DEFAULT NULL COMMENT '告警原因',\n",
    "  `remark` varchar(100) DEFAULT NULL COMMENT '备注',\n",
    "  PRIMARY KEY (`alarm_id`),\n",
    "  KEY `ind_alarm_history_line_system_level` (`line_name`,`subsystem_name`,`alarm_level_id`,`station_name`,`alarm_time_last`),\n",
    "  KEY `ind_alarm_history_line_station_level` (`line_name`,`station_name`,`alarm_level_id`,`alarm_time_last`),\n",
    "  KEY `ind_alarm_history_line_level` (`line_name`,`alarm_level_id`,`alarm_time_last`),\n",
    "  KEY `ind_alarm_history_line_device_level` (`line_name`,`device_id`,`device_name`,`station_name`,`alarm_time_last`),\n",
    "  KEY `ind_alarm_history_alarm_code` (`line_name`,`alarm_code`,`content`,`station_name`,`alarm_time_last`),\n",
    "  KEY `ind_alarm_history_last_alarm_time` (`alarm_time_last`),\n",
    "  KEY `ind_alarm_history_clear_time` (`clear_time`),\n",
    "  KEY `ind_alarm_history_time_interval` (`time_interval`),\n",
    "  KEY `ind_alarm_history_system` (`subsystem_name`),\n",
    "  KEY `ind_alarm_history_device` (`device_id`),\n",
    "  KEY `ind_alarm_history_device_type_name` (`line_name`,`station_name`,`subsystem_name`,`alarm_time_last`,`device_type_name`),\n",
    "  KEY `ind_alarm_history_line_time_interval` (`line_name`,`station_name`,`subsystem_name`,`time_interval`,`alarm_time_last`)\n",
    ") ENGINE=InnoDB DEFAULT CHARSET=utf8 COMMENT='历史告警表';\n",
    "表ioms_alarm_history 字段：alarm_id, line, system, device_id, level, station, sub_frame, slot, port, alias, code, content, target_id, abnormal_type, trigger_reason, count, alarm_time_first, alarm_time_last, confirm_time, status, source, alarm_type, remark, 统计一下哪些模块最容易发生故障。你仅输出SQL代码,不加入任何非代码以外的解释或者背景信息，不要解释，不要解释，不要解释\"\"\"\n",
    "get_response(prompt)"
   ]
  },
  {
   "cell_type": "code",
   "execution_count": null,
   "metadata": {},
   "outputs": [],
   "source": []
  }
 ],
 "metadata": {
  "kernelspec": {
   "display_name": "cops3",
   "language": "python",
   "name": "python3"
  },
  "language_info": {
   "codemirror_mode": {
    "name": "ipython",
    "version": 3
   },
   "file_extension": ".py",
   "mimetype": "text/x-python",
   "name": "python",
   "nbconvert_exporter": "python",
   "pygments_lexer": "ipython3",
   "version": "3.10.14"
  },
  "orig_nbformat": 4
 },
 "nbformat": 4,
 "nbformat_minor": 2
}
