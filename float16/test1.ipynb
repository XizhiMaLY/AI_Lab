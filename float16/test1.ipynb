{
 "cells": [
  {
   "cell_type": "code",
   "execution_count": 7,
   "metadata": {},
   "outputs": [
    {
     "name": "stdout",
     "output_type": "stream",
     "text": [
      "Float32 Tensor:\n",
      "tensor([[0.601156651973724365234375000000, 0.318300247192382812500000000000,\n",
      "         0.707480013370513916015625000000],\n",
      "        [0.639416098594665527343750000000, 0.158254563808441162109375000000,\n",
      "         0.922784507274627685546875000000],\n",
      "        [0.396492242813110351562500000000, 0.779033362865447998046875000000,\n",
      "         0.333619594573974609375000000000]])\n",
      "\n",
      "Float16 Tensor:\n",
      "tensor([[0.601074218750000000000000000000, 0.318359375000000000000000000000,\n",
      "         0.707519531250000000000000000000],\n",
      "        [0.639648437500000000000000000000, 0.158203125000000000000000000000,\n",
      "         0.922851562500000000000000000000],\n",
      "        [0.396484375000000000000000000000, 0.778808593750000000000000000000,\n",
      "         0.333740234375000000000000000000]], dtype=torch.float16)\n",
      "\n",
      "BFloat16 Tensor:\n",
      "tensor([[0.601562500000000000000000000000, 0.318359375000000000000000000000,\n",
      "         0.707031250000000000000000000000],\n",
      "        [0.640625000000000000000000000000, 0.158203125000000000000000000000,\n",
      "         0.921875000000000000000000000000],\n",
      "        [0.396484375000000000000000000000, 0.777343750000000000000000000000,\n",
      "         0.333984375000000000000000000000]], dtype=torch.bfloat16)\n"
     ]
    }
   ],
   "source": [
    "import torch\n",
    "import numpy as np\n",
    "np.set_printoptions(precision=30)  # Adjust the precision as needed\n",
    "torch.set_printoptions(precision=30)\n",
    "# Generate a float32 tensor\n",
    "float32_tensor = torch.rand(3, 3, dtype=torch.float32)\n",
    "print(\"Float32 Tensor:\")\n",
    "print(float32_tensor)  # Convert to NumPy array for better formatting\n",
    "\n",
    "# Convert to float16\n",
    "float16_tensor = float32_tensor.to(torch.float16)\n",
    "print(\"\\nFloat16 Tensor:\")\n",
    "print(float16_tensor)\n",
    "\n",
    "# Convert to bfloat16\n",
    "bfloat16_tensor = float32_tensor.to(torch.bfloat16)\n",
    "print(\"\\nBFloat16 Tensor:\")\n",
    "print(bfloat16_tensor)\n"
   ]
  },
  {
   "cell_type": "code",
   "execution_count": 8,
   "metadata": {},
   "outputs": [
    {
     "name": "stdout",
     "output_type": "stream",
     "text": [
      "bfloat16_tensor:\n",
      "tensor([[0.734375000000000000000000000000, 0.511718750000000000000000000000,\n",
      "         0.289062500000000000000000000000],\n",
      "        [0.984375000000000000000000000000, 0.921875000000000000000000000000,\n",
      "         0.843750000000000000000000000000],\n",
      "        [0.292968750000000000000000000000, 0.058593750000000000000000000000,\n",
      "         0.519531250000000000000000000000]], dtype=torch.bfloat16)\n",
      "\n",
      "Float16 Tensor:\n",
      "tensor([[0.734375000000000000000000000000, 0.511718750000000000000000000000,\n",
      "         0.289062500000000000000000000000],\n",
      "        [0.984375000000000000000000000000, 0.921875000000000000000000000000,\n",
      "         0.843750000000000000000000000000],\n",
      "        [0.292968750000000000000000000000, 0.058593750000000000000000000000,\n",
      "         0.519531250000000000000000000000]], dtype=torch.float16)\n",
      "\n",
      "float32_tensor:\n",
      "tensor([[0.734375000000000000000000000000, 0.511718750000000000000000000000,\n",
      "         0.289062500000000000000000000000],\n",
      "        [0.984375000000000000000000000000, 0.921875000000000000000000000000,\n",
      "         0.843750000000000000000000000000],\n",
      "        [0.292968750000000000000000000000, 0.058593750000000000000000000000,\n",
      "         0.519531250000000000000000000000]])\n"
     ]
    }
   ],
   "source": [
    "import torch\n",
    "import numpy as np\n",
    "np.set_printoptions(precision=30)  # Adjust the precision as needed\n",
    "torch.set_printoptions(precision=30)\n",
    "# Generate a float32 tensor\n",
    "bfloat16_tensor = torch.rand(3, 3, dtype=torch.bfloat16)\n",
    "print(\"bfloat16_tensor:\")\n",
    "print(bfloat16_tensor)  # Convert to NumPy array for better formatting\n",
    "\n",
    "# Convert to float16\n",
    "float16_tensor = bfloat16_tensor.to(torch.float16)\n",
    "print(\"\\nFloat16 Tensor:\")\n",
    "print(float16_tensor)\n",
    "\n",
    "# Convert to bfloat16\n",
    "float32_tensor = bfloat16_tensor.to(torch.float32)\n",
    "print(\"\\nfloat32_tensor:\")\n",
    "print(float32_tensor)"
   ]
  }
 ],
 "metadata": {
  "kernelspec": {
   "display_name": "cops3",
   "language": "python",
   "name": "python3"
  },
  "language_info": {
   "codemirror_mode": {
    "name": "ipython",
    "version": 3
   },
   "file_extension": ".py",
   "mimetype": "text/x-python",
   "name": "python",
   "nbconvert_exporter": "python",
   "pygments_lexer": "ipython3",
   "version": "3.10.14"
  }
 },
 "nbformat": 4,
 "nbformat_minor": 2
}
